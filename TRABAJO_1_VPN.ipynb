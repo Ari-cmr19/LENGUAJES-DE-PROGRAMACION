{
  "nbformat": 4,
  "nbformat_minor": 0,
  "metadata": {
    "colab": {
      "provenance": []
    },
    "kernelspec": {
      "name": "python3",
      "display_name": "Python 3"
    },
    "language_info": {
      "name": "python"
    }
  },
  "cells": [
    {
      "cell_type": "code",
      "execution_count": null,
      "metadata": {
        "id": "J0bol5fvKexY"
      },
      "outputs": [],
      "source": []
    },
    {
      "cell_type": "markdown",
      "source": [
        "# Valor Presente Neto (VPN)\n",
        "\n",
        "El Valor Presente Neto (VPN) es una herramienta utilizada en finanzas para evaluar la rentabilidad de un proyecto o inversión. Consiste en calcular el valor actual de los flujos de dinero futuros que generará el proyecto, descontados a una tasa que refleja el costo de oportunidad o riesgo, y restarle la inversión inicial. De esta manera, el VPN muestra si el proyecto generará ganancias adicionales al costo del capital invertido. Si el resultado es positivo, significa que la inversión crea valor; si es negativo, implica que no es rentable; y si es cero, indica que apenas recupera lo invertido sin generar utilidad extra.\n",
        "\n",
        "## Fórmula del Valor Presente Neto (VPN)\n",
        "\n",
        "La fórmula del VPN se expresa de la siguiente manera:\n",
        "\n",
        "\\[\n",
        "$$\n",
        "VPN = \\sum_{t=0}^{n} \\frac{C_t}{(1+r)^t} - C_0\n",
        "$$\n",
        "\n",
        "\\]\n",
        "\n",
        "Donde:\n",
        "- \\(C_t\\) es el flujo de caja en el tiempo \\(t\\).\n",
        "- \\(r\\) es la tasa de descuento.\n",
        "- \\(n\\) es el número total de periodos.\n",
        "- \\(C_0\\) es la inversión inicial.\n",
        "\n",
        "## Interpretación\n",
        "\n",
        "- Si \\(VPN > 0\\), la inversión es rentable.\n",
        "- Si \\(VPN < 0\\), la inversión no es rentable.\n",
        "- Si \\(VPN = 0\\), la inversión no genera ni pérdidas ni ganancias.\n",
        "\n",
        "## Enlace útil\n",
        "\n",
        "Para obtener más información sobre el Valor Presente Neto, puedes consultar el siguiente [enlace](https://www.gerencie.com/valor-presente-neto.html)"
      ],
      "metadata": {
        "id": "fhXxeEEgKn9B"
      }
    },
    {
      "cell_type": "markdown",
      "source": [
        "# Descripcion del proyecto\n",
        "\n",
        "Supongamos que la empresa está considerando un proyecto con una inversión inicial de 10.000 y se espera recibir flujos de caja de 3.000 en cada uno de los próximos tres años. La tasa de descuento es del 5%."
      ],
      "metadata": {
        "id": "yPE6afgBVY6_"
      }
    },
    {
      "cell_type": "code",
      "source": [
        "inversion_inicial = 10000\n",
        "flujo_ano_1 = 3000\n",
        "flujo_ano_2 = 3000\n",
        "flujo_ano_3 = 3000\n",
        "\n",
        "\n",
        "tasa_descuento = 0.05\n"
      ],
      "metadata": {
        "id": "E2yc8a8KQON9"
      },
      "execution_count": 21,
      "outputs": []
    },
    {
      "cell_type": "code",
      "source": [
        "vpn= inversion_inicial\n",
        "\n",
        "print(\"el valor de inversion inicial es:\",vpn)"
      ],
      "metadata": {
        "colab": {
          "base_uri": "https://localhost:8080/"
        },
        "id": "ybhUw_rcQwmX",
        "outputId": "2b1441e6-3e4b-4387-a37f-d02fb045259e"
      },
      "execution_count": 22,
      "outputs": [
        {
          "output_type": "stream",
          "name": "stdout",
          "text": [
            "el valor de inversion inicial es: 10000\n"
          ]
        }
      ]
    },
    {
      "cell_type": "code",
      "source": [
        "vpn = (flujo_ano_1 / (1 + tasa_descuento)**1) + \\\n",
        "      (flujo_ano_2 / (1 + tasa_descuento)**2) + \\\n",
        "      (flujo_ano_3 / (1 + tasa_descuento)**3) - inversion_inicial\n",
        "print(\"el Valor Presente Neto (VPN) es:\",vpn)\n"
      ],
      "metadata": {
        "colab": {
          "base_uri": "https://localhost:8080/"
        },
        "id": "z6cqDgRKRaGq",
        "outputId": "88216407-04dd-4235-a850-254cadc775a2"
      },
      "execution_count": 23,
      "outputs": [
        {
          "output_type": "stream",
          "name": "stdout",
          "text": [
            "el Valor Presente Neto (VPN) es: -1830.2559118885656\n"
          ]
        }
      ]
    },
    {
      "cell_type": "code",
      "source": [
        "if vpn >0:\n",
        "  print(\"la inversion es viable, ya que el VPN es positivo\")\n",
        "else:\n",
        "  print(\"la inversion no es viable, ya que el VPN es negativo\")"
      ],
      "metadata": {
        "colab": {
          "base_uri": "https://localhost:8080/"
        },
        "id": "HWJHAHAZUgHy",
        "outputId": "62a22934-8435-448b-ca2a-7d6f2cfaca3d"
      },
      "execution_count": 24,
      "outputs": [
        {
          "output_type": "stream",
          "name": "stdout",
          "text": [
            "la inversion no es viable, ya que el VPN es negativo\n"
          ]
        }
      ]
    }
  ]
}
